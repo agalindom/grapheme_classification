{
 "cells": [
  {
   "cell_type": "code",
   "execution_count": null,
   "metadata": {},
   "outputs": [],
   "source": [
    "import pandas as pd\n",
    "from iterstrat.ml_stratifiers import MultilabelStratifiedKFold"
   ]
  },
  {
   "cell_type": "code",
   "execution_count": null,
   "metadata": {},
   "outputs": [],
   "source": [
    "df = pd.read_csv(\"../input/train.csv\")\n",
    "print(df.head())\n",
    "df.loc[:, 'kfold'] = -1\n",
    "\n",
    "# some shuffling\n",
    "df = df.sample(frac = 1).reset_index(drop = True)\n",
    "\n",
    "X = df.image_id.values\n",
    "y = df[[\"grapheme_root\", \"vowel_diacritic\", \"consonant_diacritic\"]].values\n",
    "\n",
    "# initialize multilabel stratifier\n",
    "mskf = MultilabelStratifiedKFold(n_splits=5)\n",
    "\n",
    "for fold , (tr,val) in enumerate(mskf.split(X,y)):\n",
    "    print(\"TRAIN: \", tr, \"VAL: \", val)\n",
    "    df.loc[val, \"kfold\"] = fold\n",
    "\n",
    "print(df.kfold.value_counts())\n",
    "df.to_csv(\"../input/train_folds.csv\", index = False)"
   ]
  }
 ],
 "metadata": {
  "kernelspec": {
   "display_name": "Python 3",
   "language": "python",
   "name": "python3"
  },
  "language_info": {
   "codemirror_mode": {
    "name": "ipython",
    "version": 3
   },
   "file_extension": ".py",
   "mimetype": "text/x-python",
   "name": "python",
   "nbconvert_exporter": "python",
   "pygments_lexer": "ipython3",
   "version": "3.7.6"
  }
 },
 "nbformat": 4,
 "nbformat_minor": 4
}
