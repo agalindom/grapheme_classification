{
 "cells": [
  {
   "cell_type": "code",
   "execution_count": 2,
   "metadata": {
    "collapsed": true
   },
   "outputs": [
    {
     "name": "stdout",
     "output_type": "stream",
     "text": [
      "Collecting iterative-stratification\n",
      "  Downloading iterative_stratification-0.1.6-py3-none-any.whl (8.7 kB)\n",
      "Requirement already satisfied: numpy in /opt/conda/lib/python3.7/site-packages (from iterative-stratification) (1.18.1)\n",
      "Requirement already satisfied: scikit-learn in /opt/conda/lib/python3.7/site-packages (from iterative-stratification) (0.22.2.post1)\n",
      "Requirement already satisfied: scipy in /opt/conda/lib/python3.7/site-packages (from iterative-stratification) (1.4.1)\n",
      "Requirement already satisfied: joblib>=0.11 in /opt/conda/lib/python3.7/site-packages (from scikit-learn->iterative-stratification) (0.14.1)\n",
      "Installing collected packages: iterative-stratification\n",
      "Successfully installed iterative-stratification-0.1.6\n"
     ]
    }
   ],
   "source": [
    "# ! python -m pip install iterative-stratification"
   ]
  },
  {
   "cell_type": "code",
   "execution_count": 3,
   "metadata": {},
   "outputs": [],
   "source": [
    "import pandas as pd\n",
    "from iterstrat.ml_stratifiers import MultilabelStratifiedKFold"
   ]
  },
  {
   "cell_type": "code",
   "execution_count": 4,
   "metadata": {},
   "outputs": [
    {
     "name": "stdout",
     "output_type": "stream",
     "text": [
      "  image_id  grapheme_root  vowel_diacritic  consonant_diacritic grapheme\n",
      "0  Train_0             15                9                    5   ক্ট্রো\n",
      "1  Train_1            159                0                    0        হ\n",
      "2  Train_2             22                3                    5     খ্রী\n",
      "3  Train_3             53                2                    2     র্টি\n",
      "4  Train_4             71                9                    5     থ্রো\n",
      "TRAIN:  [     0      1      2 ... 200837 200838 200839] VAL:  [     5     22     29 ... 200819 200828 200834]\n",
      "TRAIN:  [     2      3      5 ... 200836 200838 200839] VAL:  [     0      1      4 ... 200829 200835 200837]\n",
      "TRAIN:  [     0      1      3 ... 200836 200837 200838] VAL:  [     2     12     25 ... 200824 200832 200839]\n",
      "TRAIN:  [     0      1      2 ... 200836 200837 200839] VAL:  [     3     15     24 ... 200830 200831 200838]\n",
      "TRAIN:  [     0      1      2 ... 200837 200838 200839] VAL:  [    10     16     31 ... 200825 200833 200836]\n",
      "4    40168\n",
      "3    40168\n",
      "2    40168\n",
      "1    40168\n",
      "0    40168\n",
      "Name: kfold, dtype: int64\n"
     ]
    }
   ],
   "source": [
    "df = pd.read_csv(\"input/train.csv\")\n",
    "print(df.head())\n",
    "df.loc[:, 'kfold'] = -1\n",
    "\n",
    "# some shuffling\n",
    "df = df.sample(frac = 1).reset_index(drop = True)\n",
    "\n",
    "X = df.image_id.values\n",
    "y = df[[\"grapheme_root\", \"vowel_diacritic\", \"consonant_diacritic\"]].values\n",
    "\n",
    "# initialize multilabel stratifier\n",
    "mskf = MultilabelStratifiedKFold(n_splits=5)\n",
    "\n",
    "for fold , (tr,val) in enumerate(mskf.split(X,y)):\n",
    "    print(\"TRAIN: \", tr, \"VAL: \", val)\n",
    "    df.loc[val, \"kfold\"] = fold\n",
    "\n",
    "print(df.kfold.value_counts())\n",
    "df.to_csv(\"input/train_folds.csv\", index = False)"
   ]
  },
  {
   "cell_type": "code",
   "execution_count": null,
   "metadata": {},
   "outputs": [],
   "source": []
  }
 ],
 "metadata": {
  "environment": {
   "name": "pytorch-gpu.1-4.m46",
   "type": "gcloud",
   "uri": "gcr.io/deeplearning-platform-release/pytorch-gpu.1-4:m46"
  },
  "kernelspec": {
   "display_name": "Python 3",
   "language": "python",
   "name": "python3"
  },
  "language_info": {
   "codemirror_mode": {
    "name": "ipython",
    "version": 3
   },
   "file_extension": ".py",
   "mimetype": "text/x-python",
   "name": "python",
   "nbconvert_exporter": "python",
   "pygments_lexer": "ipython3",
   "version": "3.7.6"
  }
 },
 "nbformat": 4,
 "nbformat_minor": 4
}
