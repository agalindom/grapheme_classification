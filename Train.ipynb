{
 "cells": [
  {
   "cell_type": "code",
   "execution_count": null,
   "metadata": {},
   "outputs": [],
   "source": [
    "%load_ext autoreload\n",
    "%autoreload 2\n",
    "\n",
    "%matplotlib inline"
   ]
  },
  {
   "cell_type": "code",
   "execution_count": null,
   "metadata": {},
   "outputs": [],
   "source": [
    "import os\n",
    "import torch\n",
    "import torch.nn as nn\n",
    "from dataset import BengaliTrainDataset\n",
    "from tqdm import tqdm"
   ]
  },
  {
   "cell_type": "markdown",
   "metadata": {},
   "source": [
    "# Model Configuration "
   ]
  },
  {
   "cell_type": "code",
   "execution_count": null,
   "metadata": {},
   "outputs": [],
   "source": [
    "DEVICE = \"cuda\"\n",
    "TRAINING_FOLDS_CSV = \"../input/train_folds.csv\"\n",
    "EPOCHS = 10\n",
    "\n",
    "TRAIN_BATCH_SIZE = 32\n",
    "TEST_BATCH_SIZE = 8"
   ]
  },
  {
   "cell_type": "code",
   "execution_count": null,
   "metadata": {},
   "outputs": [],
   "source": [
    "def loss_fn(outputs, targets):\n",
    "    o1, o2, o3 = outputs\n",
    "    t1, t2, t3 = targets\n",
    "    l1 = nn.CrossEntropyLoss()(o1, t1)\n",
    "    l2 = nn.CrossEntropyloss()(o2, t2)\n",
    "    l3 = nn.CrossEntropyloss()(o3, t3)\n",
    "    return (l1 + l2 + l3) / 3\n",
    "\n",
    "def train(dataset, data_loader, model, optimizer, device):\n",
    "    model.train()\n",
    "\n",
    "    for batch, dataset in tqdm(enumerate(data_loader), total=int(len(dataset)/data_loader.batch_size)):\n",
    "        image = dataset[\"image\"]\n",
    "        grapheme_root = dataset[\"grapheme_root\"]\n",
    "        vowel_diacritic = dataset[\"vowel_diacritic\"]\n",
    "        consonant_diacritic = dataset[\"consonant_diacritic\"]\n",
    "\n",
    "        image = image.to(device, dtype = torch.float) # move data to cuda\n",
    "        grapheme_root = grapheme_root.to(DEVICE, dtype = torch.long)\n",
    "        vowel_diacritic = vowel_diacritic.to(DEVICE, dtype = torch.long)\n",
    "        consonant_diacritic = consonant_diacritic.to(DEVICE, dtype = torch.long)\n",
    "\n",
    "        outputs = model(image)\n",
    "        targets = (grapheme_root, vowel_diacritic, consonant_diacritic)\n",
    "        loss = loss_fn(outputs, targets)\n",
    "\n",
    "        optimizer.zero_grad()\n",
    "        loss.backward()\n",
    "        optimizer.step()\n",
    "\n",
    "def evaluate(dataset, data_loader, model):\n",
    "    model.eval()\n",
    "    final_loss = 0\n",
    "    counter = 0\n",
    "    for batch, dataset in tqdm(enumerate(data_loader), total=int(len(dataset)/data_loader.batch_size)):\n",
    "        counter = counter + 1\n",
    "        image = dataset[\"image\"]\n",
    "        grapheme_root = dataset[\"grapheme_root\"]\n",
    "        vowel_diacritic = dataset[\"vowel_diacritic\"]\n",
    "        consonant_diacritic = dataset[\"consonant_diacritic\"]\n",
    "\n",
    "        image = image.to(DEVICE, dtype = torch.float) # move data to cuda\n",
    "        grapheme_root = grapheme_root.to(DEVICE, dtype = torch.long)\n",
    "        vowel_diacritic = vowel_diacritic.to(DEVICE, dtype = torch.long)\n",
    "        consonant_diacritic = consonant_diacritic.to(DEVICE, dtype = torch.long)\n",
    "\n",
    "        outputs = model(image)\n",
    "        targets = (grapheme_root, vowel_diacritic, consonant_diacritic)\n",
    "        loss = loss_fn(outputs, targets)\n",
    "        final_loss += loss\n",
    "    \n",
    "    return final_loss / counter\n",
    "\n",
    "def main(training_folds, validation_folds, model, device, train_batch_size, test_batch_size, epochs):\n",
    "    model.to(device)\n",
    "\n",
    "    def train_transforms():\n",
    "        return A.Compose([\n",
    "            A.Resize(137, 236, always_apply = True),\n",
    "            A.ShiftScaleRotate(shift_limit=0.0625, scale_limit=0.1, rotate_limit=5, p=0.9),\n",
    "            A.Normalize((0.485,0.456,0.406), (0.229,0.224,0.225), always_apply = True)])\n",
    "\n",
    "    def valid_transforms():\n",
    "        return A.Compose([\n",
    "            A.Resize(137, 236, always_apply = True),\n",
    "            A.Normalize((0.485,0.456,0.406), (0.229,0.224,0.225), always_apply = True)])\n",
    "\n",
    "    train_dataset = BengaliTrainDataset(folds=training_folds, transforms = train_transforms())\n",
    "    valid_dataset = BengaliTrainDataset(folds=validation_folds, transforms = valid_transforms())\n",
    "\n",
    "    trainloader = DataLoader(\n",
    "    dataset = train_dataset,\n",
    "    batch_size=train_batch_size,\n",
    "    shuffle=True,\n",
    "    num_workers=4\n",
    "        )\n",
    "\n",
    "    validloader = DataLoader(\n",
    "    dataset = train_dataset,\n",
    "    batch_size=test_batch_size,\n",
    "    shuffle=False,\n",
    "    num_workers=4\n",
    "    )\n",
    "\n",
    "    optimizer = torch.optim.Adam(model.parameters(), lr=1e-4)\n",
    "    scheduler = torch.optim.lr_scheduler.ReduceLROnPlateau(\n",
    "        optmizer, mode = 'min', patience = 5, factor = 0.3)\n",
    "\n",
    "    # if torch.cuda.device_count() > 1:\n",
    "    #     model = nn.DataParallel(model)\n",
    "    \n",
    "    for epoch in range(epochs):\n",
    "        train(train_dataset, trainloader, model, optimizer)\n",
    "        val_score = evaluate(valid_dataset, validloader, model)\n",
    "        scheduler.step(val_score)\n",
    "        torch.save(model.state_dict(), f\"Models/resnet_34_fold{VALIDATION_FOLDS[0]}.bin\")"
   ]
  },
  {
   "cell_type": "markdown",
   "metadata": {},
   "source": [
    "# Training"
   ]
  },
  {
   "cell_type": "code",
   "execution_count": null,
   "metadata": {},
   "outputs": [],
   "source": [
    "TRAINING_FOLDS = \"(0,1,2,3)\"\n",
    "VALIDATION_FOLDS = \"(4,)\""
   ]
  },
  {
   "cell_type": "code",
   "execution_count": null,
   "metadata": {},
   "outputs": [],
   "source": [
    "TRAINING_FOLDS = \"(0,1,2,4)\"\n",
    "VALIDATION_FOLDS = \"(3,)\""
   ]
  },
  {
   "cell_type": "code",
   "execution_count": null,
   "metadata": {},
   "outputs": [],
   "source": [
    "TRAINING_FOLDS = \"(0,1,4,3)\"\n",
    "VALIDATION_FOLDS = \"(2,)\""
   ]
  },
  {
   "cell_type": "code",
   "execution_count": null,
   "metadata": {},
   "outputs": [],
   "source": [
    "TRAINING_FOLDS = \"(0,4,2,3)\"\n",
    "VALIDATION_FOLDS = \"(1,)\""
   ]
  },
  {
   "cell_type": "code",
   "execution_count": null,
   "metadata": {},
   "outputs": [],
   "source": [
    "TRAINING_FOLDS = \"(4,1,2,3)\"\n",
    "VALIDATION_FOLDS = \"(0,)\""
   ]
  }
 ],
 "metadata": {
  "kernelspec": {
   "display_name": "Python 3",
   "language": "python",
   "name": "python3"
  },
  "language_info": {
   "codemirror_mode": {
    "name": "ipython",
    "version": 3
   },
   "file_extension": ".py",
   "mimetype": "text/x-python",
   "name": "python",
   "nbconvert_exporter": "python",
   "pygments_lexer": "ipython3",
   "version": "3.7.6"
  }
 },
 "nbformat": 4,
 "nbformat_minor": 4
}
