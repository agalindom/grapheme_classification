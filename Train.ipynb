{
 "cells": [
  {
   "cell_type": "code",
   "execution_count": 1,
   "metadata": {},
   "outputs": [],
   "source": [
    "%load_ext autoreload\n",
    "%autoreload 2\n",
    "\n",
    "%matplotlib inline"
   ]
  },
  {
   "cell_type": "code",
   "execution_count": 2,
   "metadata": {},
   "outputs": [],
   "source": [
    "# ! python -m pip install albumentations"
   ]
  },
  {
   "cell_type": "code",
   "execution_count": 3,
   "metadata": {},
   "outputs": [],
   "source": [
    "# ! python -m pip install pretrainedmodels"
   ]
  },
  {
   "cell_type": "code",
   "execution_count": 4,
   "metadata": {},
   "outputs": [],
   "source": [
    "import os\n",
    "import helpers\n",
    "import pandas as pd\n",
    "import torch\n",
    "import torch.nn as nn\n",
    "from torch.utils.data import DataLoader\n",
    "import albumentations as A\n",
    "from dataset import BengaliTrainDataset\n",
    "from models import ResNet34\n",
    "from tqdm import tqdm"
   ]
  },
  {
   "cell_type": "markdown",
   "metadata": {},
   "source": [
    "# Model Configuration "
   ]
  },
  {
   "cell_type": "code",
   "execution_count": 5,
   "metadata": {},
   "outputs": [],
   "source": [
    "DEVICE = torch.device('cuda') if torch.cuda.is_available() else torch.device('cpu')\n",
    "TRAINING_FOLDS_CSV = \"input/train_folds.csv\"\n",
    "EPOCHS = 10\n",
    "\n",
    "TRAIN_BATCH_SIZE = 64\n",
    "TEST_BATCH_SIZE = 8"
   ]
  },
  {
   "cell_type": "code",
   "execution_count": 6,
   "metadata": {},
   "outputs": [],
   "source": [
    "def loss_fn(outputs, targets):\n",
    "    o1, o2, o3 = outputs\n",
    "    t1, t2, t3 = targets\n",
    "    l1 = nn.CrossEntropyLoss()(o1, t1)\n",
    "    l2 = nn.CrossEntropyLoss()(o2, t2)\n",
    "    l3 = nn.CrossEntropyLoss()(o3, t3)\n",
    "    return (l1 + l2 + l3) / 3\n",
    "\n",
    "def train(epoch, trainset, validset, train_loader, valid_loader, model, optimizer, device, itr):\n",
    "    model.train()\n",
    "    loss_hist = helpers.Averager()\n",
    "    loss_hist.reset()\n",
    "    for batch, dataset in tqdm(enumerate(train_loader), total=int(len(trainset)/train_loader.batch_size)):\n",
    "        image = dataset[\"image\"]\n",
    "        grapheme_root = dataset[\"grapheme_root\"]\n",
    "        vowel_diacritic = dataset[\"vowel_diacritic\"]\n",
    "        consonant_diacritic = dataset[\"consonant_diacritic\"]\n",
    "\n",
    "        image = image.to(device, dtype = torch.float) # move data to cuda\n",
    "        grapheme_root = grapheme_root.to(DEVICE, dtype = torch.long)\n",
    "        vowel_diacritic = vowel_diacritic.to(DEVICE, dtype = torch.long)\n",
    "        consonant_diacritic = consonant_diacritic.to(DEVICE, dtype = torch.long)\n",
    "\n",
    "        outputs = model(image)\n",
    "        targets = (grapheme_root, vowel_diacritic, consonant_diacritic)\n",
    "        loss = loss_fn(outputs, targets)\n",
    "        loss_hist.send(loss)\n",
    "\n",
    "        optimizer.zero_grad()\n",
    "        loss.backward()\n",
    "        optimizer.step()\n",
    "        \n",
    "        itr += 1\n",
    "        \n",
    "    model.eval()\n",
    "    with torch.no_grad():\n",
    "        final_loss = 0.\n",
    "        for batch, dataset in tqdm(enumerate(valid_loader), total=int(len(validset)/valid_loader.batch_size)):\n",
    "            image = dataset[\"image\"]\n",
    "            len(image)\n",
    "            grapheme_root = dataset[\"grapheme_root\"]\n",
    "            vowel_diacritic = dataset[\"vowel_diacritic\"]\n",
    "            consonant_diacritic = dataset[\"consonant_diacritic\"]\n",
    "\n",
    "            image = image.to(DEVICE, dtype = torch.float) # move data to cuda\n",
    "            grapheme_root = grapheme_root.to(DEVICE, dtype = torch.long)\n",
    "            vowel_diacritic = vowel_diacritic.to(DEVICE, dtype = torch.long)\n",
    "            consonant_diacritic = consonant_diacritic.to(DEVICE, dtype = torch.long)\n",
    "            ## update the average validation loss\n",
    "            outputs = model(image)\n",
    "            targets = (grapheme_root, vowel_diacritic, consonant_diacritic)\n",
    "            loss = loss_fn(outputs, targets)\n",
    "            final_loss += loss\n",
    "    nv = len(valid_loader)\n",
    "    print(f\"Epoch:{epoch} validation_loss: {final_loss / nv}\")\n",
    "        \n",
    "    return final_loss / nv\n",
    "\n",
    "def main(training_folds, validation_folds, model, device, train_batch_size, test_batch_size, epochs):\n",
    "    model = model(pretrained = True)\n",
    "    model.to('cuda')\n",
    "\n",
    "    def train_transforms():\n",
    "        return A.Compose([\n",
    "            A.Resize(137, 236, always_apply = True),\n",
    "            A.ShiftScaleRotate(shift_limit=0.0625, scale_limit=0.1, rotate_limit=5, p=0.9),\n",
    "            A.Normalize((0.485,0.456,0.406), (0.229,0.224,0.225), always_apply = True)])\n",
    "\n",
    "    def valid_transforms():\n",
    "        return A.Compose([\n",
    "            A.Resize(137, 236, always_apply = True),\n",
    "            A.Normalize((0.485,0.456,0.406), (0.229,0.224,0.225), always_apply = True)])\n",
    "    \n",
    "    train_df = pd.read_csv(\"input/train_folds.csv\")\n",
    "    valid_df = train_df[train_df[\"kfold\"].isin(validation_folds)]\n",
    "    train_dataset = BengaliTrainDataset(train_df, folds=training_folds, transforms = train_transforms())\n",
    "    valid_dataset = BengaliTrainDataset(valid_df, folds=validation_folds, transforms = valid_transforms())\n",
    "    print(len(train_dataset))\n",
    "    print(len(valid_dataset))\n",
    "\n",
    "    trainloader = DataLoader(\n",
    "    dataset = train_dataset,\n",
    "    batch_size=train_batch_size,\n",
    "    shuffle=True,\n",
    "    num_workers=4\n",
    "        )\n",
    "\n",
    "    validloader = DataLoader(\n",
    "    dataset = valid_dataset,\n",
    "    batch_size=test_batch_size,\n",
    "    shuffle=False,\n",
    "    num_workers=4\n",
    "    )\n",
    "\n",
    "    optimizer = torch.optim.Adam(model.parameters(), lr=1e-4)\n",
    "    scheduler = torch.optim.lr_scheduler.ReduceLROnPlateau(\n",
    "        optimizer, mode = 'min', patience = 5, factor = 0.3)\n",
    "\n",
    "    # if torch.cuda.device_count() > 1:\n",
    "    #     model = nn.DataParallel(model)\n",
    "    \n",
    "    itr = 1\n",
    "    for epoch in range(epochs):\n",
    "        val_score = train(epoch,train_dataset,valid_dataset,trainloader,validloader,model,optimizer,DEVICE,itr)\n",
    "        scheduler.step(val_score)\n",
    "        torch.save(model.state_dict(), f\"Models/resnet_34_fold{VALIDATION_FOLDS[0]}.bin\")"
   ]
  },
  {
   "cell_type": "markdown",
   "metadata": {},
   "source": [
    "# Training"
   ]
  },
  {
   "cell_type": "code",
   "execution_count": 7,
   "metadata": {},
   "outputs": [
    {
     "name": "stdout",
     "output_type": "stream",
     "text": [
      "(40168, 6)\n",
      "160672\n",
      "40168\n"
     ]
    },
    {
     "name": "stderr",
     "output_type": "stream",
     "text": [
      "2511it [05:36,  7.45it/s]                          \n",
      "100%|██████████| 5021/5021 [03:54<00:00, 21.37it/s]\n"
     ]
    },
    {
     "name": "stdout",
     "output_type": "stream",
     "text": [
      "Epoch:0 validation_loss: 0.159388929605484\n"
     ]
    },
    {
     "name": "stderr",
     "output_type": "stream",
     "text": [
      "2511it [05:36,  7.46it/s]                          \n",
      "100%|██████████| 5021/5021 [00:53<00:00, 94.36it/s]\n"
     ]
    },
    {
     "name": "stdout",
     "output_type": "stream",
     "text": [
      "Epoch:1 validation_loss: 0.12361336499452591\n"
     ]
    },
    {
     "name": "stderr",
     "output_type": "stream",
     "text": [
      "2511it [05:36,  7.47it/s]                          \n",
      "100%|██████████| 5021/5021 [00:53<00:00, 94.29it/s] \n"
     ]
    },
    {
     "name": "stdout",
     "output_type": "stream",
     "text": [
      "Epoch:2 validation_loss: 0.11889827996492386\n"
     ]
    },
    {
     "name": "stderr",
     "output_type": "stream",
     "text": [
      "2511it [05:36,  7.47it/s]                          \n",
      "100%|██████████| 5021/5021 [00:53<00:00, 93.62it/s]\n"
     ]
    },
    {
     "name": "stdout",
     "output_type": "stream",
     "text": [
      "Epoch:3 validation_loss: 0.10955140739679337\n"
     ]
    },
    {
     "name": "stderr",
     "output_type": "stream",
     "text": [
      "2511it [05:36,  7.47it/s]                          \n",
      "100%|██████████| 5021/5021 [00:53<00:00, 93.42it/s]\n"
     ]
    },
    {
     "name": "stdout",
     "output_type": "stream",
     "text": [
      "Epoch:4 validation_loss: 0.09888476133346558\n"
     ]
    },
    {
     "name": "stderr",
     "output_type": "stream",
     "text": [
      "2511it [05:36,  7.46it/s]                          \n",
      "100%|██████████| 5021/5021 [00:53<00:00, 93.92it/s]\n"
     ]
    },
    {
     "name": "stdout",
     "output_type": "stream",
     "text": [
      "Epoch:5 validation_loss: 0.0987471416592598\n"
     ]
    },
    {
     "name": "stderr",
     "output_type": "stream",
     "text": [
      "2511it [05:36,  7.47it/s]                          \n",
      "100%|██████████| 5021/5021 [00:53<00:00, 93.80it/s]\n"
     ]
    },
    {
     "name": "stdout",
     "output_type": "stream",
     "text": [
      "Epoch:6 validation_loss: 0.10703538358211517\n"
     ]
    },
    {
     "name": "stderr",
     "output_type": "stream",
     "text": [
      "2511it [05:36,  7.47it/s]                          \n",
      "100%|██████████| 5021/5021 [00:53<00:00, 94.26it/s]\n"
     ]
    },
    {
     "name": "stdout",
     "output_type": "stream",
     "text": [
      "Epoch:7 validation_loss: 0.0974956676363945\n"
     ]
    },
    {
     "name": "stderr",
     "output_type": "stream",
     "text": [
      "2511it [05:36,  7.46it/s]                          \n",
      "100%|██████████| 5021/5021 [00:53<00:00, 93.26it/s]\n"
     ]
    },
    {
     "name": "stdout",
     "output_type": "stream",
     "text": [
      "Epoch:8 validation_loss: 0.09610696136951447\n"
     ]
    },
    {
     "name": "stderr",
     "output_type": "stream",
     "text": [
      "2511it [05:36,  7.47it/s]                          \n",
      "100%|██████████| 5021/5021 [00:53<00:00, 93.86it/s] \n"
     ]
    },
    {
     "name": "stdout",
     "output_type": "stream",
     "text": [
      "Epoch:9 validation_loss: 0.09045566618442535\n"
     ]
    }
   ],
   "source": [
    "TRAINING_FOLDS = [0,1,2,3]\n",
    "VALIDATION_FOLDS = [4]\n",
    "main(TRAINING_FOLDS, VALIDATION_FOLDS, ResNet34, DEVICE, TRAIN_BATCH_SIZE, TEST_BATCH_SIZE, EPOCHS)"
   ]
  },
  {
   "cell_type": "code",
   "execution_count": 13,
   "metadata": {
    "collapsed": true
   },
   "outputs": [
    {
     "ename": "TypeError",
     "evalue": "main() missing 7 required positional arguments: 'training_folds', 'validation_folds', 'model', 'device', 'train_batch_size', 'test_batch_size', and 'epochs'",
     "output_type": "error",
     "traceback": [
      "\u001b[0;31m---------------------------------------------------------------------------\u001b[0m",
      "\u001b[0;31mTypeError\u001b[0m                                 Traceback (most recent call last)",
      "\u001b[0;32m<ipython-input-13-677cb6ffabe4>\u001b[0m in \u001b[0;36m<module>\u001b[0;34m\u001b[0m\n\u001b[1;32m      1\u001b[0m \u001b[0mTRAINING_FOLDS\u001b[0m \u001b[0;34m=\u001b[0m \u001b[0;34m[\u001b[0m\u001b[0;36m0\u001b[0m\u001b[0;34m,\u001b[0m\u001b[0;36m1\u001b[0m\u001b[0;34m,\u001b[0m\u001b[0;36m2\u001b[0m\u001b[0;34m,\u001b[0m\u001b[0;36m4\u001b[0m\u001b[0;34m]\u001b[0m\u001b[0;34m\u001b[0m\u001b[0;34m\u001b[0m\u001b[0m\n\u001b[1;32m      2\u001b[0m \u001b[0mVALIDATION_FOLDS\u001b[0m \u001b[0;34m=\u001b[0m \u001b[0;34m[\u001b[0m\u001b[0;36m3\u001b[0m\u001b[0;34m]\u001b[0m\u001b[0;34m\u001b[0m\u001b[0;34m\u001b[0m\u001b[0m\n\u001b[0;32m----> 3\u001b[0;31m \u001b[0mmain\u001b[0m\u001b[0;34m(\u001b[0m\u001b[0;34m)\u001b[0m\u001b[0;34m\u001b[0m\u001b[0;34m\u001b[0m\u001b[0m\n\u001b[0m",
      "\u001b[0;31mTypeError\u001b[0m: main() missing 7 required positional arguments: 'training_folds', 'validation_folds', 'model', 'device', 'train_batch_size', 'test_batch_size', and 'epochs'"
     ]
    }
   ],
   "source": [
    "TRAINING_FOLDS = [0,1,2,4]\n",
    "VALIDATION_FOLDS = [3]\n",
    "main(TRAINING_FOLDS, VALIDATION_FOLDS, ResNet34, DEVICE, TRAIN_BATCH_SIZE, TEST_BATCH_SIZE, EPOCHS)"
   ]
  },
  {
   "cell_type": "code",
   "execution_count": null,
   "metadata": {},
   "outputs": [],
   "source": [
    "TRAINING_FOLDS = \"(0,1,4,3)\"\n",
    "VALIDATION_FOLDS = \"(2,)\"\n",
    "main()"
   ]
  },
  {
   "cell_type": "code",
   "execution_count": null,
   "metadata": {},
   "outputs": [],
   "source": [
    "TRAINING_FOLDS = \"(0,4,2,3)\"\n",
    "VALIDATION_FOLDS = \"(1,)\"\n",
    "main()"
   ]
  },
  {
   "cell_type": "code",
   "execution_count": null,
   "metadata": {},
   "outputs": [],
   "source": [
    "TRAINING_FOLDS = \"(4,1,2,3)\"\n",
    "VALIDATION_FOLDS = \"(0,)\"\n",
    "main()"
   ]
  }
 ],
 "metadata": {
  "environment": {
   "name": "pytorch-gpu.1-4.m46",
   "type": "gcloud",
   "uri": "gcr.io/deeplearning-platform-release/pytorch-gpu.1-4:m46"
  },
  "kernelspec": {
   "display_name": "Python 3",
   "language": "python",
   "name": "python3"
  },
  "language_info": {
   "codemirror_mode": {
    "name": "ipython",
    "version": 3
   },
   "file_extension": ".py",
   "mimetype": "text/x-python",
   "name": "python",
   "nbconvert_exporter": "python",
   "pygments_lexer": "ipython3",
   "version": "3.7.6"
  }
 },
 "nbformat": 4,
 "nbformat_minor": 4
}
